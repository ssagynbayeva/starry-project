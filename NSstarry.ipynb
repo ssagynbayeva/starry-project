{
 "cells": [
  {
   "cell_type": "code",
   "execution_count": 1,
   "metadata": {},
   "outputs": [],
   "source": [
    "import starry\n",
    "import matplotlib.pyplot as plt\n",
    "import numpy as np\n",
    "import pymc3 as pm\n",
    "import pymc3.math as pmm\n",
    "import pymc3_ext as pmx\n",
    "import exoplanet\n",
    "from starry_process import StarryProcess\n",
    "from scipy.linalg import cho_factor, cho_solve\n",
    "import starry_process \n",
    "import theano\n",
    "import aesara_theano_fallback.tensor as tt\n",
    "import aesara.tensor as at\n",
    "from theano.tensor.slinalg import cholesky"
   ]
  },
  {
   "cell_type": "code",
   "execution_count": null,
   "metadata": {},
   "outputs": [],
   "source": [
    "\n",
    "phi = np.arcsin(y) + 2 * (1 - np.sqrt(1 - y ** 2)) / (y * r)"
   ]
  },
  {
   "cell_type": "code",
   "execution_count": 2,
   "metadata": {},
   "outputs": [
    {
     "name": "stderr",
     "output_type": "stream",
     "text": [
      "Pre-computing some matrices... Done.\n"
     ]
    }
   ],
   "source": [
    "lmax = 3\n",
    "map = starry.Map(lmax)"
   ]
  },
  {
   "cell_type": "code",
   "execution_count": 3,
   "metadata": {},
   "outputs": [],
   "source": [
    "theta = np.linspace(0, 360, 100)"
   ]
  },
  {
   "cell_type": "code",
   "execution_count": null,
   "metadata": {},
   "outputs": [],
   "source": []
  }
 ],
 "metadata": {
  "kernelspec": {
   "display_name": "Python 3.10.4 ('pymc3_env')",
   "language": "python",
   "name": "python3"
  },
  "language_info": {
   "codemirror_mode": {
    "name": "ipython",
    "version": 3
   },
   "file_extension": ".py",
   "mimetype": "text/x-python",
   "name": "python",
   "nbconvert_exporter": "python",
   "pygments_lexer": "ipython3",
   "version": "3.10.4"
  },
  "orig_nbformat": 4,
  "vscode": {
   "interpreter": {
    "hash": "6f90b4276c590783c7a07511109bf4719a0a3e6c83f54b45385e5346de3d0c98"
   }
  }
 },
 "nbformat": 4,
 "nbformat_minor": 2
}
